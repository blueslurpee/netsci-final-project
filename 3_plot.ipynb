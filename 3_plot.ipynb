{
 "cells": [
  {
   "cell_type": "code",
   "execution_count": 1,
   "metadata": {},
   "outputs": [],
   "source": [
    "import pandas as pd\n",
    "import networkx as nx\n",
    "import matplotlib.pyplot as plt\n",
    "import matplotlib as mpl\n",
    "import os\n",
    "import numpy as np\n",
    "import imageio\n",
    "from datetime import datetime\n",
    "from tqdm import tqdm"
   ]
  },
  {
   "cell_type": "markdown",
   "metadata": {},
   "source": [
    "# Load Project Data"
   ]
  },
  {
   "cell_type": "code",
   "execution_count": 2,
   "metadata": {},
   "outputs": [],
   "source": [
    "projects = [\n",
    "    'bayc'\n",
    "]"
   ]
  },
  {
   "cell_type": "code",
   "execution_count": 3,
   "metadata": {},
   "outputs": [],
   "source": [
    "df_summaries = {}\n",
    "\n",
    "column_names = [\n",
    "    \"date\", \n",
    "    \"days_since_mint\", \n",
    "    \"from_address\", \n",
    "    \"to_address\", \n",
    "    \"token_id\", \n",
    "    \"blk_number\", \n",
    "    \"eth_value\", \n",
    "    \"usd_value\", \n",
    "    \"from_value\", \n",
    "    \"to_value\", \n",
    "    \"from_value_usd\", \n",
    "    \"to_value_usd\"\n",
    "]\n",
    "\n",
    "for project in projects:\n",
    "    np_data = np.load(f\"./memory/{project}/full.npy\", allow_pickle=True)\n",
    "    df_summaries[project] = pd.DataFrame(data=np_data, columns=column_names).infer_objects()"
   ]
  },
  {
   "cell_type": "markdown",
   "metadata": {},
   "source": [
    "# Draw a Network"
   ]
  },
  {
   "cell_type": "code",
   "execution_count": 4,
   "metadata": {},
   "outputs": [],
   "source": [
    "def draw_network(graph, filename, date, dataset, pos):\n",
    "    \n",
    "    # if we already have some nodes, we want to keep the positions of these nodes.\n",
    "    # this does make the drawing not too busy.\n",
    "    if pos:\n",
    "        pos = nx.spring_layout(graph, pos=pos)\n",
    "    else:\n",
    "        pos = nx.spring_layout(graph)\n",
    "\n",
    "    # get the weights for drawing the width of the edges\n",
    "    widths = nx.get_edge_attributes(graph, 'weight')\n",
    "\n",
    "    # build a heat map for the number of trades of the accounts.\n",
    "    # we need to treat the 0x0 address a bit differently.\n",
    "    nx.set_node_attributes(graph, {'0x0000000000000000000000000000000000000000':-1}, 'trades')\n",
    "    color_lookup = { v:k['trades'] for v, k in graph.nodes.data()}\n",
    "    low, *_, high = sorted(color_lookup.values())\n",
    "    norm = mpl.colors.Normalize(vmin=low, vmax=high, clip=True)\n",
    "    mapper = mpl.cm.ScalarMappable(norm=norm, cmap=mpl.cm.viridis)\n",
    "    # map everything according to the defined scale except the 0x0 address node, which is just white.\n",
    "    null_mapper = ['white' if i == -1 else mapper.to_rgba(i) for i in color_lookup.values()]\n",
    "\n",
    "    # map the value of a node to it's size. We have a fixed size for the 0x0 node.\n",
    "    nx.set_node_attributes(graph, {'0x0000000000000000000000000000000000000000':10}, 'eth_value')\n",
    "    size_lookup = {v:k['eth_value'] for v, k in graph.nodes.data()}\n",
    "\n",
    "    fig, ax = plt.subplots(figsize=(100, 100))\n",
    "    ax.set_facecolor(\"#000000\")\n",
    "    \n",
    "    # Visualize graph components\n",
    "    nx.draw_networkx_edges(graph, pos, alpha=0.3, edge_color=\"m\", width=list(widths.values()))\n",
    "    nx.draw_networkx_nodes(graph, pos, node_color=null_mapper, alpha=0.8, node_size=[v * 10 for v in size_lookup.values()])\n",
    "    \n",
    "    # add an info box at the top\n",
    "    textstr = \"Project: %s\\nDate: %s\" % (dataset, date)\n",
    "\n",
    "    # place a text box in upper left in axes coords\n",
    "    props = dict(boxstyle='round', facecolor='black', alpha=1.0)\n",
    "    ax.text(0.75, 0.95, textstr, transform=ax.transAxes, fontsize=70, verticalalignment='top', bbox=props, color='white')\n",
    "\n",
    "    # save frame\n",
    "    plt.savefig(filename)\n",
    "    plt.close()\n",
    "\n",
    "    # plt.show()\n",
    "    return pos"
   ]
  },
  {
   "cell_type": "code",
   "execution_count": 5,
   "metadata": {},
   "outputs": [],
   "source": [
    "# this is the same code that we use in the ingest notebook.\n",
    "# except that we draw a plot every day and we use the eth value for the edge weight.\n",
    "def build_graph(df, project):    \n",
    "    # Building a network per block\n",
    "    # we will use a weighted and directed graph.\n",
    "    graph = nx.MultiDiGraph()\n",
    "\n",
    "    startDate = df['date'].iloc[0]\n",
    "\n",
    "    filenames = [] # store the generated filenames.\n",
    "    pos = None # empty positions for the graph.\n",
    "    # loop over the pandas dataframe.\n",
    "    for index, row in tqdm(df.iterrows(), total=df.shape[0]):\n",
    "        # read the values from the dataframe.\n",
    "        # token_id  blk_timestamp eth_value \n",
    "        date = row['date']\n",
    "        from_address = row['from_address']\n",
    "        to_address = row['to_address']\n",
    "        token_id = row['token_id']\n",
    "        blk_number = row['blk_number']\n",
    "        eth_value = row['eth_value']\n",
    "        usd_value = row['usd_value']\n",
    "        from_value = row['from_value']\n",
    "        to_value = row['to_value']\n",
    "        from_value_usd = row['from_value_usd']\n",
    "        to_value_usd = row['to_value_usd']\n",
    "        \n",
    "        # make sure both addresses are in the graph.\n",
    "        if from_address not in graph:\n",
    "            graph.add_node(from_address)\n",
    "        if to_address not in graph:\n",
    "            graph.add_node(to_address)\n",
    "\n",
    "        # set the attributes on this node.\n",
    "        nx.set_node_attributes(graph, {from_address: from_value, to_address: to_value}, 'eth_value')\n",
    "        nx.set_node_attributes(graph, {from_address: from_value_usd, to_address: to_value_usd}, 'usd_value')\n",
    "\n",
    "        # keep track of how many trades a wallet has done.\n",
    "        trades = nx.get_node_attributes(graph, \"trades\")\n",
    "        if from_address in trades:\n",
    "            nx.set_node_attributes(graph, {from_address:trades[from_address] + 1}, 'trades')\n",
    "        else:\n",
    "            nx.set_node_attributes(graph, {from_address:1}, 'trades')\n",
    "        if to_address in trades:\n",
    "            nx.set_node_attributes(graph, {to_address:trades[to_address] + 1}, 'trades')\n",
    "        else:\n",
    "            nx.set_node_attributes(graph, {to_address:1}, 'trades')\n",
    "\n",
    "        # check if this NFT has already been sold and if yes, remove the old sale.\n",
    "        # this might be a candidate for memoization - c.b.\n",
    "        remove_edges = []\n",
    "        for (u,v,d) in graph.edges.data():\n",
    "            if d['token_id'] == token_id:\n",
    "                remove_edges.append((u,v))\n",
    "        # we need to remove them in a seperate step, since otherwise we change the datastructure that we are iterating over.\n",
    "        for (u,v) in remove_edges:\n",
    "            graph.remove_edge(u,v)\n",
    "\n",
    "        # add an edge for the transaction. # Note changed to usd_value\n",
    "        graph.add_edge(from_address, to_address, weight=eth_value, token_id=token_id) # keep track of token id by adding it to the edge.\n",
    "\n",
    "        # plot the network every day.\n",
    "        if (date - startDate).total_seconds() > 86400:\n",
    "            # create file name and append it to a list\n",
    "            filename = f'./data/tmp/%s.png' % index\n",
    "            filenames.append(filename)\n",
    "            pos = draw_network(graph, filename, date.strftime('%Y-%m-%d'), project, pos)\n",
    "            startDate = date\n",
    "    \n",
    "    # build gif\n",
    "    with imageio.get_writer('./data/gifs/%s.gif' % project, mode='I') as writer:\n",
    "        for filename in filenames:\n",
    "            image = imageio.imread(filename)\n",
    "            writer.append_data(image)\n",
    "            \n",
    "    # remove files\n",
    "    for filename in set(filenames):\n",
    "        os.remove(filename)"
   ]
  },
  {
   "cell_type": "code",
   "execution_count": 6,
   "metadata": {},
   "outputs": [
    {
     "name": "stderr",
     "output_type": "stream",
     "text": [
      "  0%|          | 0/50950 [00:00<?, ?it/s]/opt/homebrew/Caskroom/miniforge/base/envs/.venv/lib/python3.9/site-packages/numpy/core/_asarray.py:171: VisibleDeprecationWarning: Creating an ndarray from ragged nested sequences (which is a list-or-tuple of lists-or-tuples-or ndarrays with different lengths or shapes) is deprecated. If you meant to do this, you must specify 'dtype=object' when creating the ndarray.\n",
      "  return array(a, dtype, copy=False, order=order, subok=True)\n",
      " 21%|██        | 10606/50950 [00:24<01:11, 567.04it/s]/opt/homebrew/Caskroom/miniforge/base/envs/.venv/lib/python3.9/site-packages/numpy/core/_asarray.py:171: VisibleDeprecationWarning: Creating an ndarray from ragged nested sequences (which is a list-or-tuple of lists-or-tuples-or ndarrays with different lengths or shapes) is deprecated. If you meant to do this, you must specify 'dtype=object' when creating the ndarray.\n",
      "  return array(a, dtype, copy=False, order=order, subok=True)\n",
      "100%|██████████| 50950/50950 [7:32:22<00:00,  1.88it/s]   \n"
     ]
    }
   ],
   "source": [
    "for project in projects:\n",
    "    np_data = np.load(f\"./memory/{project}/full.npy\", allow_pickle=True)\n",
    "    df = pd.DataFrame(data=np_data, columns=column_names).infer_objects()    \n",
    "    \n",
    "    build_graph(df, \"Bored Ape Yacht Club\")"
   ]
  }
 ],
 "metadata": {
  "interpreter": {
   "hash": "a1d81e0ab65a2d871dd04cd5480301015f0912bc0455ad9e82832e105402504a"
  },
  "kernelspec": {
   "display_name": "Python 3.9.7 64-bit ('.venv': conda)",
   "language": "python",
   "name": "python3"
  },
  "language_info": {
   "codemirror_mode": {
    "name": "ipython",
    "version": 3
   },
   "file_extension": ".py",
   "mimetype": "text/x-python",
   "name": "python",
   "nbconvert_exporter": "python",
   "pygments_lexer": "ipython3",
   "version": "3.9.7"
  },
  "orig_nbformat": 4
 },
 "nbformat": 4,
 "nbformat_minor": 2
}
